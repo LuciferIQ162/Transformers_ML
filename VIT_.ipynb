{
 "cells": [
  {
   "cell_type": "code",
   "execution_count": 7,
   "id": "ce66f288",
   "metadata": {},
   "outputs": [],
   "source": [
    "import tensorflow as tf\n",
    "from tensorflow.keras.layers import Layer, Dense, LayerNormalization, Dropout, Flatten"
   ]
  },
  {
   "cell_type": "code",
   "execution_count": 8,
   "id": "67d423d3",
   "metadata": {},
   "outputs": [],
   "source": [
    "class TransformerBlock(Layer):\n",
    "    def __init__(self, embed_dim, num_heads, ff_dim, rate=0.1):\n",
    "        super(TransformerBlock, self).__init__()\n",
    "        self.attn = tf.keras.layers.MultiHeadAttention(num_heads=num_heads, key_dim=embed_dim)\n",
    "        self.ffn = tf.keras.Sequential([\n",
    "            Dense(ff_dim, activation='relu'),\n",
    "            Dense(embed_dim),\n",
    "        ])\n",
    "        self.layernorm1 = LayerNormalization(epsilon=1e-6)\n",
    "        self.layernorm2 = LayerNormalization(epsilon=1e-6)\n",
    "        self.dropout1 = Dropout(rate)\n",
    "        self.dropout2 = Dropout(rate)\n",
    "\n",
    "    def call(self, inputs, training):\n",
    "        attn_output = self.attn(inputs, inputs)\n",
    "        attn_output = self.dropout1(attn_output, training=training)\n",
    "        out1 = self.layernorm1(inputs + attn_output)\n",
    "        ffn_output = self.ffn(out1)\n",
    "        ffn_output = self.dropout2(ffn_output, training=training)\n",
    "        return self.layernorm2(out1 + ffn_output)"
   ]
  },
  {
   "cell_type": "code",
   "execution_count": 9,
   "id": "9e4d3210",
   "metadata": {},
   "outputs": [],
   "source": [
    "# Define the PatchEmbedding layer\n",
    "class PatchEmbedding(Layer):\n",
    "    def __init__(self, num_patches, embedding_dim):\n",
    "        super(PatchEmbedding, self).__init__()\n",
    "        self.num_patches = num_patches\n",
    "        self.embedding_dim = embedding_dim\n",
    "        self.projection = Dense(embedding_dim)\n",
    "    def call(self, patches):\n",
    "            return self.projection(patches)\n"
   ]
  },
  {
   "cell_type": "code",
   "execution_count": 10,
   "id": "7822675f",
   "metadata": {},
   "outputs": [],
   "source": [
    "# Define the VisionTransformer model\n",
    "class VisionTransformer(tf.keras.Model):\n",
    "    def __init__(self, num_patches, embedding_dim, num_heads,\n",
    "    ff_dim,num_layers, num_classes):\n",
    "        super(VisionTransformer, self).__init__()\n",
    "        self.patch_embed = PatchEmbedding(num_patches, embedding_dim)\n",
    "        self.transformer_layers = [TransformerBlock(embedding_dim, num_heads,\n",
    "        ff_dim)\n",
    "                for _ in range(num_layers)]\n",
    "        self.flatten = Flatten()\n",
    "        self.dense = Dense(num_classes, activation='softmax')\n",
    "    def call(self, images, training=False):\n",
    "        patches = self.extract_patches(images)\n",
    "        x = self.patch_embed(patches)\n",
    "        for transformer_layer in self.transformer_layers:\n",
    "            x = transformer_layer(x, training=training)\n",
    "        x = self.flatten(x)\n",
    "        return self.dense(x)\n",
    "    def extract_patches(self, images):\n",
    "        batch_size = tf.shape(images)[0]\n",
    "        patches = tf.image.extract_patches(\n",
    "        images=images,\n",
    "        sizes=[1, 16, 16, 1], strides=[1, 16, 16, 1],\n",
    "        rates=[1, 1, 1, 1],\n",
    "        padding='VALID'\n",
    "        )\n",
    "        patches=tf.reshape(patches, [batch_size, -1, 16*16*3])\n",
    "        return patches\n"
   ]
  },
  {
   "cell_type": "code",
   "execution_count": 11,
   "id": "1f3e4a87",
   "metadata": {},
   "outputs": [
    {
     "name": "stdout",
     "output_type": "stream",
     "text": [
      "(32, 10)\n"
     ]
    }
   ],
   "source": [
    "#example usage\n",
    "# Example usage\n",
    "\n",
    "num_patches = 196 # Assuming 14x14 patches\n",
    "embedding_dim = 128\n",
    "num_heads = 4\n",
    "ff_dim = 512\n",
    "num_layers = 6\n",
    "num_classes = 10 # For CIFAR-10 dataset\n",
    "vit = VisionTransformer(num_patches, embedding_dim, num_heads, ff_dim,\n",
    "num_layers, num_classes)\n",
    "images = tf.random.uniform((32, 224, 224, 3)) # Batch of 32 images of size\n",
    "#224x224\n",
    "output = vit(images)\n",
    "print(output.shape) # Should (32, 10)\n"
   ]
  },
  {
   "cell_type": "code",
   "execution_count": null,
   "id": "466cb12d",
   "metadata": {},
   "outputs": [],
   "source": []
  }
 ],
 "metadata": {
  "kernelspec": {
   "display_name": "Python 3",
   "language": "python",
   "name": "python3"
  },
  "language_info": {
   "codemirror_mode": {
    "name": "ipython",
    "version": 3
   },
   "file_extension": ".py",
   "mimetype": "text/x-python",
   "name": "python",
   "nbconvert_exporter": "python",
   "pygments_lexer": "ipython3",
   "version": "3.9.23"
  }
 },
 "nbformat": 4,
 "nbformat_minor": 5
}
