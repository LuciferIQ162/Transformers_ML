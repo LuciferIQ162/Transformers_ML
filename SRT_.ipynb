{
 "cells": [
  {
   "cell_type": "code",
   "execution_count": 38,
   "id": "08883064",
   "metadata": {},
   "outputs": [],
   "source": [
    "import tensorflow as tf\n",
    "from tensorflow.keras.layers import Layer, Dense, LayerNormalization, Dropout, Flatten, Conv1D, BatchNormalization, Reshape\n",
    "from tensorflow.keras.models import Model"
   ]
  },
  {
   "cell_type": "code",
   "execution_count": 39,
   "id": "54cdceb2",
   "metadata": {},
   "outputs": [],
   "source": [
    "#define the TransformerBlock within the same cell\n",
    "class TransformerBlock(Layer):\n",
    "    def __init__(self, embed_dim, num_heads, ff_dim, rate=0.1):\n",
    "        super(TransformerBlock, self).__init__()\n",
    "        self.att = tf.keras.layers.MultiHeadAttention(num_heads=num_heads,\n",
    "        key_dim=embed_dim)\n",
    "        self.ffn=tf.keras.Sequential([\n",
    "            Dense(ff_dim, activation='relu'),\n",
    "            Dense(embed_dim),\n",
    "        ])\n",
    "        self.layernorm1=LayerNormalization(epsilon=1e-6)\n",
    "        self.layernorm2=LayerNormalization(epsilon=1e-6)\n",
    "        self.dropout1=Dropout(rate)\n",
    "        self.dropout2=Dropout(rate)\n",
    "\n",
    "    def call(self, inputs, training, mask=None):\n",
    "        attn_output=self.att(inputs, inputs, inputs, attention_mask=mask)\n",
    "        attn_output=self.dropout1(attn_output, training=training)\n",
    "        out1=self.layernorm1(inputs + attn_output)\n",
    "        ffn_output=self.ffn(out1)\n",
    "        ffn_output=self.dropout2(ffn_output, training=training)\n",
    "        return self.layernorm2(out1 + ffn_output)\n"
   ]
  },
  {
   "cell_type": "code",
   "execution_count": 40,
   "id": "c77d2ca4",
   "metadata": {},
   "outputs": [],
   "source": [
    "#define the patch embedding class\n",
    "class PatchEmbedding(Layer):\n",
    "    def __init__(self, num_patches, embedding_dim):\n",
    "        super(PatchEmbedding, self).__init__()\n",
    "        self.num_patches=num_patches\n",
    "        self.embedding_dim=embedding_dim\n",
    "        self.projection=Dense(embedding_dim)\n",
    "    \n",
    "    def call(self, patches):\n",
    "        return self.projection(patches)"
   ]
  },
  {
   "cell_type": "code",
   "execution_count": 41,
   "id": "fa9190ba",
   "metadata": {},
   "outputs": [],
   "source": [
    "#Defining the VisionTransformerModel\n",
    "class VisionTransformer(Model):\n",
    "    def __init__(self, num_patches, embedding_dim, num_heads, ff_dim,\n",
    "        num_layers, num_classes):\n",
    "        super(VisionTransformer, self).__init__()\n",
    "        self.patch_embed=PatchEmbedding(num_patches, embedding_dim)\n",
    "        self.transformer_layers=[TransformerBlock(embedding_dim, num_heads, ff_dim)\n",
    "        for _ in range(num_layers)]\n",
    "        self.flatten=Flatten()\n",
    "        self.Dense=Dense(num_classes, activation='softmax')\n",
    "\n",
    "    def call(self, images, training=False):\n",
    "        patches = self.extract_patches(images)\n",
    "        x=self.patch_embed(patches)\n",
    "        for transformer_layer in self.transformer_layers:\n",
    "            x=transformer_layer(x, training=training)\n",
    "        x=self.flatten(x)\n",
    "        return self.dense(x)\n",
    "\n",
    "    def extract_patches(self, images):\n",
    "        batch_size=tf.shape(images)[0]\n",
    "        patches=tf.image.extract_patches(\n",
    "            images=images,\n",
    "            sizes=[1, 16, 16, 1],\n",
    "            strides=[1, 16, 16, 1],\n",
    "            rates=[1, 1, 1, 1],\n",
    "            padding='VALID'\n",
    "        )\n",
    "        patches=tf.reshape(patches, [batch_size, -1, 16*16*3])\n",
    "        return patches"
   ]
  },
  {
   "cell_type": "code",
   "execution_count": 42,
   "id": "2bd389cb",
   "metadata": {},
   "outputs": [],
   "source": [
    "#define the SpeechTransformer Model\n",
    "class SpeechTransformer(Model):\n",
    "    def __init__(self, num_mel_bins, embedding_dim, num_heads, ff_dim, \n",
    "        num_layers, num_classes):\n",
    "            super(SpeechTransformer, self).__init__()\n",
    "            self.conv1=Conv1D(filters=embedding_dim, kernel_size=3,\n",
    "            strides=1, padding='same', activation='relu')\n",
    "            self.batch_norm=BatchNormalization()\n",
    "            self.reshape=Reshape((-1, embedding_dim))\n",
    "            self.transformer_layers=[TransformerBlock(embedding_dim, num_heads, ff_dim)\n",
    "            for _ in range(num_layers)]\n",
    "            self.flatten=Flatten()\n",
    "            self.dense=Dense(num_classes, activation='softmax')\n",
    "        \n",
    "\n",
    "    def call(self, spectrograms, training=False):\n",
    "        x=self.conv1(spectrograms)\n",
    "        x=self.batch_norm(x, training=training)\n",
    "        x=self.reshape(x)\n",
    "        for transformer_layer in self.transformer_layers:\n",
    "            x=transformer_layer(x, training=training)\n",
    "        x=self.flatten(x)\n",
    "        return self.dense(x)\n",
    "        "
   ]
  },
  {
   "cell_type": "code",
   "execution_count": 43,
   "id": "eeef8103",
   "metadata": {},
   "outputs": [],
   "source": [
    "#example usecase\n",
    "num_mel_bins = 80\n",
    "embedding_dim = 128\n",
    "num_heads = 4\n",
    "ff_dim = 512\n",
    "num_layers = 6\n",
    "num_classes = 30 #example for phenome classification\n"
   ]
  },
  {
   "cell_type": "code",
   "execution_count": 44,
   "id": "cfa71011",
   "metadata": {},
   "outputs": [
    {
     "name": "stdout",
     "output_type": "stream",
     "text": [
      "(32, 30)\n"
     ]
    }
   ],
   "source": [
    "#initialize the SpeechTransformer Model\n",
    "st=SpeechTransformer(num_mel_bins, embedding_dim, num_heads, ff_dim,\n",
    "num_layers, num_classes)\n",
    "\n",
    "#Generate example spectrograms\n",
    "spectrograms = tf.random.uniform((32, 100, num_mel_bins)) #batch of 32\n",
    "#spectrograms with 100 time frames\n",
    "\n",
    "\n",
    "#get the model predictions\n",
    "output=st(spectrograms, training=True)\n",
    "print(output.shape)#should print(32,30)for batch of size 32 and 30 classes"
   ]
  }
 ],
 "metadata": {
  "kernelspec": {
   "display_name": "Python 3",
   "language": "python",
   "name": "python3"
  },
  "language_info": {
   "codemirror_mode": {
    "name": "ipython",
    "version": 3
   },
   "file_extension": ".py",
   "mimetype": "text/x-python",
   "name": "python",
   "nbconvert_exporter": "python",
   "pygments_lexer": "ipython3",
   "version": "3.9.23"
  }
 },
 "nbformat": 4,
 "nbformat_minor": 5
}
