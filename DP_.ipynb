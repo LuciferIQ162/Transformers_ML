{
 "cells": [
  {
   "cell_type": "code",
   "execution_count": 1,
   "id": "30e3b1cc",
   "metadata": {},
   "outputs": [],
   "source": [
    "import numpy as np\n",
    "import pandas as pd\n",
    "from sklearn.preprocessing import MinMaxScaler\n"
   ]
  },
  {
   "cell_type": "code",
   "execution_count": null,
   "id": "67c49d50",
   "metadata": {},
   "outputs": [],
   "source": [
    "#load the data set\n",
    "data = pd.read_csv('/content/stock_prices.csv')# put your own dataset in here this one wont work as expected\n",
    "data = data[['close']].values\n",
    "\n",
    "\n",
    "#Normalize the data\n",
    "scaler = MinMaxScaler(feature_range=(0, 1))\n",
    "data = Scaler.fit_transform(data)\n",
    "\n",
    "\n",
    "#prepare the data for training\n",
    "def create_dataset(data, time_step=1):\n",
    "    X, Y = [], []\n",
    "    for i in range(len(data) - time_step - 1):\n",
    "        a = data[i:(i + time_step), 0]#slice a sequence from the data\n",
    "        X.append(a)#append the sequence to X\n",
    "        Y.append(data[i + time_step, 0])#append  the next value to Y\n",
    "    return np.array(X), np.array(Y)\n",
    "\n",
    "time_step = 60\n",
    "X, Y = create_dataset(data, time_step)"
   ]
  },
  {
   "cell_type": "code",
   "execution_count": 5,
   "id": "10d224b0",
   "metadata": {},
   "outputs": [
    {
     "ename": "NameError",
     "evalue": "name 'data' is not defined",
     "output_type": "error",
     "traceback": [
      "\u001b[0;31m---------------------------------------------------------------------------\u001b[0m",
      "\u001b[0;31mNameError\u001b[0m                                 Traceback (most recent call last)",
      "Cell \u001b[0;32mIn[5], line 2\u001b[0m\n\u001b[1;32m      1\u001b[0m \u001b[38;5;66;03m#print and debug and understand the shapes\u001b[39;00m\n\u001b[0;32m----> 2\u001b[0m \u001b[38;5;28mprint\u001b[39m(\u001b[38;5;124m\"\u001b[39m\u001b[38;5;124mLength of data:\u001b[39m\u001b[38;5;124m\"\u001b[39m, \u001b[38;5;28mlen\u001b[39m(\u001b[43mdata\u001b[49m))\n\u001b[1;32m      3\u001b[0m \u001b[38;5;28mprint\u001b[39m(\u001b[38;5;124m\"\u001b[39m\u001b[38;5;124mLength of X:\u001b[39m\u001b[38;5;124m\"\u001b[39m, \u001b[38;5;28mlen\u001b[39m(X))\n\u001b[1;32m      4\u001b[0m \u001b[38;5;28mprint\u001b[39m(\u001b[38;5;124m\"\u001b[39m\u001b[38;5;124mShape of the first element in X: \u001b[39m\u001b[38;5;124m\"\u001b[39m, X[\u001b[38;5;241m0\u001b[39m]\u001b[38;5;241m.\u001b[39mshape \u001b[38;5;28;01mif\u001b[39;00m \u001b[38;5;28mlen\u001b[39m(X) \u001b[38;5;241m>\u001b[39m \u001b[38;5;241m0\u001b[39m \u001b[38;5;28;01melse\u001b[39;00m \u001b[38;5;124m\"\u001b[39m\u001b[38;5;124mX is empty\u001b[39m\u001b[38;5;124m\"\u001b[39m )\n",
      "\u001b[0;31mNameError\u001b[0m: name 'data' is not defined"
     ]
    }
   ],
   "source": [
    "#print and debug and understand the shapes\n",
    "print(\"Length of data:\", len(data))\n",
    "print(\"Length of X:\", len(X))\n",
    "print(\"Shape of the first element in X: \", X[0].shape if len(X) > 0 else \"X is empty\" )\n",
    "print(\"Shape of Y:\", Y.shape)\n",
    "\n",
    "\n",
    "#reshape X to fit LSTM input shape requirements (if X is not empty)\n",
    "if len(X) > 0:\n",
    "    X = X.reshape(X.shape[0], X.shape[1], 1)\n",
    "    print(\"Shape of X after reshape:\", X.shape)\n",
    "\n",
    "print(\"shape of X:\", X.shape)\n",
    "print(\"shape of Y:\", Y.shape)"
   ]
  },
  {
   "cell_type": "markdown",
   "id": "ee7487e0",
   "metadata": {},
   "source": [
    "code example: Transformer model"
   ]
  },
  {
   "cell_type": "code",
   "execution_count": 7,
   "id": "c4d4c447",
   "metadata": {},
   "outputs": [],
   "source": [
    "from tensorflow.keras.models import Model\n",
    "from tensorflow.keras.layers import Input, Dense, Flatten, Embedding"
   ]
  },
  {
   "cell_type": "code",
   "execution_count": null,
   "id": "a509ef32",
   "metadata": {},
   "outputs": [],
   "source": [
    "#define the transformer Model \n",
    "input_shape = (X.shape[1], X.shape[2])\n",
    "inputs = Input(shape=input_shape)\n",
    "\n",
    "#Embedding Layer\n",
    "x = Dense(128)(inputs)\n",
    "\n",
    "\n",
    "#Transformer blocks\n",
    "for _ in range(4):\n",
    "    x = TransformerBlock(embed_dim=128, num_heads=4, ff_dim=512)(x)\n",
    "\n",
    "\n",
    "#output layer\n",
    "x = Flatten()(X)\n",
    "outputs = Dense(1)(x)\n",
    "\n",
    "#create the Model\n",
    "Model.compile(optimizer='adam', loss='mse')\n",
    "\n",
    "#Train the model\n",
    "model.fit(X, Y, epochs=20, batch_size=32)"
   ]
  },
  {
   "cell_type": "code",
   "execution_count": null,
   "id": "9d1aeb10",
   "metadata": {},
   "outputs": [],
   "source": [
    "from keras.models import Sequential\n",
    "from keras.layers import LSTM, Dense\n",
    "\n",
    "\n",
    "#define the model \n",
    "model "
   ]
  }
 ],
 "metadata": {
  "kernelspec": {
   "display_name": "Python 3",
   "language": "python",
   "name": "python3"
  },
  "language_info": {
   "codemirror_mode": {
    "name": "ipython",
    "version": 3
   },
   "file_extension": ".py",
   "mimetype": "text/x-python",
   "name": "python",
   "nbconvert_exporter": "python",
   "pygments_lexer": "ipython3",
   "version": "3.9.23"
  }
 },
 "nbformat": 4,
 "nbformat_minor": 5
}
