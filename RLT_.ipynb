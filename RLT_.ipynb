{
 "cells": [
  {
   "cell_type": "code",
   "execution_count": 13,
   "id": "41752396",
   "metadata": {},
   "outputs": [],
   "source": [
    "import tensorflow as tf\n",
    "from tensorflow.keras.layers import Dense, TimeDistributed\n",
    "#define the TransformerBlock class\n",
    "class TransformerBlock(tf.keras.layers.Layer):\n",
    "    def __init__(self, embed_dim, num_heads, ff_dim, rate=0.1):\n",
    "        super(TransformerBlock, self).__init__()\n",
    "        self.att = tf.keras.layers.MultiHeadAttention(num_heads=num_heads, key_dim=embed_dim)\n",
    "        self.ffn=tf.keras.Sequential([\n",
    "            Dense(ff_dim, activation='relu'),\n",
    "            Dense(embed_dim),\n",
    "        ])\n",
    "        self.layernorm1 = tf.keras.layers.LayerNormalization(epsilon=1e-6)\n",
    "        self.layernorm2 = tf.keras.layers.LayerNormalization(epsilon=1e-6)\n",
    "        self.dropout1 = tf.keras.layers.Dropout(rate)\n",
    "        self.dropout2 = tf.keras.layers.Dropout(rate)\n",
    "    \n",
    "    def call(self, inputs, training, mask=None):\n",
    "        attn_output = self.attn(inputs, inputs, attention_mask=mask)\n",
    "        attn_output = self.dropout1(attn_output, training=training)\n",
    "        out1 = self.layernorm1(inputs + attn_output)\n",
    "\n",
    "        ffn_output = self.ffn(out1)\n",
    "        ffn_output = self.dropout2(ffn_output, training=training)\n",
    "\n",
    "        return self.layernorm2(out1 + ffn_output)"
   ]
  },
  {
   "cell_type": "code",
   "execution_count": 14,
   "id": "63aa0b9d",
   "metadata": {},
   "outputs": [],
   "source": [
    "# Define the DecisionTransformer model\n",
    "class DecisionTransformer(tf.keras.Model):\n",
    "    def __init__(self, state_dim, action_dim, embedding_dim, num_heads,\n",
    "        ff_dim, num_layers):\n",
    "        super(DecisionTransformer, self).__init__()\n",
    "        self.state_embed = Dense(embedding_dim, activation='relu')\n",
    "        self.action_embed = Dense(embedding_dim, activation='relu')\n",
    "        self.transformer_layers = [TransformerBlock(embedding_dim,\n",
    "        num_heads, ff_dim) for _ in range(num_layers)]\n",
    "        self.dense = TimeDistributed(Dense(action_dim))\n",
    "    def call(self, states, actions, training=False):\n",
    "        state_embeddings = self.state_embed(states)\n",
    "        action_embeddings = self.action_embed(actions)\n",
    "        x = state_embeddings + action_embeddings\n",
    "        for transformer_layer in self.transformer_layers:\n",
    "            x = transformer_layer(x, training=training)\n",
    "        return self.dense(x)\n",
    "\n"
   ]
  },
  {
   "cell_type": "code",
   "execution_count": 16,
   "id": "5de88953",
   "metadata": {},
   "outputs": [
    {
     "ename": "AttributeError",
     "evalue": "Exception encountered when calling TransformerBlock.call().\n\n\u001b[1m'TransformerBlock' object has no attribute 'attn'\u001b[0m\n\nArguments received by TransformerBlock.call():\n  • inputs=tf.Tensor(shape=(32, 100, 128), dtype=float32)\n  • training=True\n  • mask=None",
     "output_type": "error",
     "traceback": [
      "\u001b[0;31m---------------------------------------------------------------------------\u001b[0m",
      "\u001b[0;31mAttributeError\u001b[0m                            Traceback (most recent call last)",
      "Cell \u001b[0;32mIn[16], line 21\u001b[0m\n\u001b[1;32m     18\u001b[0m actions \u001b[38;5;241m=\u001b[39m tf\u001b[38;5;241m.\u001b[39mrandom\u001b[38;5;241m.\u001b[39muniform((\u001b[38;5;241m32\u001b[39m,\u001b[38;5;241m100\u001b[39m, action_dim))\n\u001b[1;32m     20\u001b[0m \u001b[38;5;66;03m# Get the model predictions\u001b[39;00m\n\u001b[0;32m---> 21\u001b[0m output \u001b[38;5;241m=\u001b[39m \u001b[43mdt\u001b[49m\u001b[43m(\u001b[49m\u001b[43mstates\u001b[49m\u001b[43m,\u001b[49m\u001b[43m \u001b[49m\u001b[43mactions\u001b[49m\u001b[43m,\u001b[49m\u001b[43m \u001b[49m\u001b[43mtraining\u001b[49m\u001b[38;5;241;43m=\u001b[39;49m\u001b[38;5;28;43;01mTrue\u001b[39;49;00m\u001b[43m)\u001b[49m\n\u001b[1;32m     22\u001b[0m \u001b[38;5;28mprint\u001b[39m(output\u001b[38;5;241m.\u001b[39mshape)\n\u001b[1;32m     23\u001b[0m \u001b[38;5;66;03m#should print (32, 100, 5) for batch size of 32 sequencel length 100, and action dimention 5\u001b[39;00m\n",
      "File \u001b[0;32m~/.local/lib/python3.9/site-packages/keras/src/utils/traceback_utils.py:122\u001b[0m, in \u001b[0;36mfilter_traceback.<locals>.error_handler\u001b[0;34m(*args, **kwargs)\u001b[0m\n\u001b[1;32m    119\u001b[0m     filtered_tb \u001b[38;5;241m=\u001b[39m _process_traceback_frames(e\u001b[38;5;241m.\u001b[39m__traceback__)\n\u001b[1;32m    120\u001b[0m     \u001b[38;5;66;03m# To get the full stack trace, call:\u001b[39;00m\n\u001b[1;32m    121\u001b[0m     \u001b[38;5;66;03m# `keras.config.disable_traceback_filtering()`\u001b[39;00m\n\u001b[0;32m--> 122\u001b[0m     \u001b[38;5;28;01mraise\u001b[39;00m e\u001b[38;5;241m.\u001b[39mwith_traceback(filtered_tb) \u001b[38;5;28;01mfrom\u001b[39;00m\u001b[38;5;250m \u001b[39m\u001b[38;5;28;01mNone\u001b[39;00m\n\u001b[1;32m    123\u001b[0m \u001b[38;5;28;01mfinally\u001b[39;00m:\n\u001b[1;32m    124\u001b[0m     \u001b[38;5;28;01mdel\u001b[39;00m filtered_tb\n",
      "Cell \u001b[0;32mIn[14], line 16\u001b[0m, in \u001b[0;36mDecisionTransformer.call\u001b[0;34m(self, states, actions, training)\u001b[0m\n\u001b[1;32m     14\u001b[0m x \u001b[38;5;241m=\u001b[39m state_embeddings \u001b[38;5;241m+\u001b[39m action_embeddings\n\u001b[1;32m     15\u001b[0m \u001b[38;5;28;01mfor\u001b[39;00m transformer_layer \u001b[38;5;129;01min\u001b[39;00m \u001b[38;5;28mself\u001b[39m\u001b[38;5;241m.\u001b[39mtransformer_layers:\n\u001b[0;32m---> 16\u001b[0m     x \u001b[38;5;241m=\u001b[39m \u001b[43mtransformer_layer\u001b[49m\u001b[43m(\u001b[49m\u001b[43mx\u001b[49m\u001b[43m,\u001b[49m\u001b[43m \u001b[49m\u001b[43mtraining\u001b[49m\u001b[38;5;241;43m=\u001b[39;49m\u001b[43mtraining\u001b[49m\u001b[43m)\u001b[49m\n\u001b[1;32m     17\u001b[0m \u001b[38;5;28;01mreturn\u001b[39;00m \u001b[38;5;28mself\u001b[39m\u001b[38;5;241m.\u001b[39mdense(x)\n",
      "Cell \u001b[0;32mIn[13], line 18\u001b[0m, in \u001b[0;36mTransformerBlock.call\u001b[0;34m(self, inputs, training, mask)\u001b[0m\n\u001b[1;32m     17\u001b[0m \u001b[38;5;28;01mdef\u001b[39;00m\u001b[38;5;250m \u001b[39m\u001b[38;5;21mcall\u001b[39m(\u001b[38;5;28mself\u001b[39m, inputs, training, mask\u001b[38;5;241m=\u001b[39m\u001b[38;5;28;01mNone\u001b[39;00m):\n\u001b[0;32m---> 18\u001b[0m     attn_output \u001b[38;5;241m=\u001b[39m \u001b[38;5;28;43mself\u001b[39;49m\u001b[38;5;241;43m.\u001b[39;49m\u001b[43mattn\u001b[49m(inputs, inputs, attention_mask\u001b[38;5;241m=\u001b[39mmask)\n\u001b[1;32m     19\u001b[0m     attn_output \u001b[38;5;241m=\u001b[39m \u001b[38;5;28mself\u001b[39m\u001b[38;5;241m.\u001b[39mdropout1(attn_output, training\u001b[38;5;241m=\u001b[39mtraining)\n\u001b[1;32m     20\u001b[0m     out1 \u001b[38;5;241m=\u001b[39m \u001b[38;5;28mself\u001b[39m\u001b[38;5;241m.\u001b[39mlayernorm1(inputs \u001b[38;5;241m+\u001b[39m attn_output)\n",
      "\u001b[0;31mAttributeError\u001b[0m: Exception encountered when calling TransformerBlock.call().\n\n\u001b[1m'TransformerBlock' object has no attribute 'attn'\u001b[0m\n\nArguments received by TransformerBlock.call():\n  • inputs=tf.Tensor(shape=(32, 100, 128), dtype=float32)\n  • training=True\n  • mask=None"
     ]
    }
   ],
   "source": [
    "# Example usage\n",
    "\n",
    "state_dim = 20\n",
    "action_dim = 5\n",
    "embedding_dim = 128\n",
    "num_heads = 4\n",
    "ff_dim = 512\n",
    "num_layers = 6\n",
    "\n",
    "# Initialize DecisionTransformer model\n",
    "\n",
    "dt = DecisionTransformer(state_dim, action_dim, embedding_dim, num_heads,\n",
    "ff_dim, num_layers)\n",
    "\n",
    "# Generate example states and actions\n",
    "states = tf.random.uniform((32, 100, state_dim))\n",
    "# Batch of 32 sequences of 100 states\n",
    "actions = tf.random.uniform((32,100, action_dim))\n",
    "\n",
    "# Get the model predictions\n",
    "output = dt(states, actions, training=True)\n",
    "print(output.shape)\n",
    "#should print (32, 100, 5) for batch size of 32 sequencel length 100, and action dimention 5\n"
   ]
  },
  {
   "cell_type": "code",
   "execution_count": null,
   "id": "3beba341",
   "metadata": {},
   "outputs": [],
   "source": []
  }
 ],
 "metadata": {
  "kernelspec": {
   "display_name": "Python 3",
   "language": "python",
   "name": "python3"
  },
  "language_info": {
   "codemirror_mode": {
    "name": "ipython",
    "version": 3
   },
   "file_extension": ".py",
   "mimetype": "text/x-python",
   "name": "python",
   "nbconvert_exporter": "python",
   "pygments_lexer": "ipython3",
   "version": "3.9.23"
  }
 },
 "nbformat": 4,
 "nbformat_minor": 5
}
